{
 "cells": [
  {
   "cell_type": "code",
   "execution_count": 1,
   "metadata": {},
   "outputs": [],
   "source": [
    "import glob, os\n",
    "import pandas as pd\n",
    "import seaborn as sns\n",
    "import numpy as np"
   ]
  },
  {
   "cell_type": "code",
   "execution_count": 2,
   "metadata": {},
   "outputs": [],
   "source": [
    "def get_precision_recall(A, B):\n",
    "\n",
    "    retrieved_list = A['opcs'].drop_duplicates()\n",
    "    target_list = B['code'].str.replace('.','').drop_duplicates()\n",
    "    \n",
    "    total_codes_retrieved = len(retrieved_list)\n",
    "    target_codes_retrieved = sum(retrieved_list.isin(target_list))\n",
    "    total_target_codes = len(target_list)\n",
    "    \n",
    "\n",
    "    # precision = relevant retrieved instances / all retrieved instances\n",
    "    # 'how many of the retrieved codes were in CORECT-R'\n",
    "    precision = ( target_codes_retrieved / total_codes_retrieved ) * 100\n",
    "    print('   Precision: ',round(precision,2), '  ',target_codes_retrieved,' out of ',total_codes_retrieved,'codes retrieved were relevant')\n",
    "\n",
    "    # recall = relevant retrieved instances / all relevant instances\n",
    "    # 'how many of the CORECT-R codes were retrieved?'\n",
    "    recall = ( target_codes_retrieved / total_target_codes ) * 100\n",
    "    print('   Recall:    ',round(recall,2), '  ',target_codes_retrieved,' out of ',total_target_codes,' CORECT codes found')\n",
    "\n",
    "    return precision, recall"
   ]
  },
  {
   "cell_type": "code",
   "execution_count": 3,
   "metadata": {},
   "outputs": [],
   "source": [
    "# Get codelists to compare against\n",
    "comparison_sets = [['appendix', 'hdruk/Appendicitis'], \n",
    "                   ['cataract', 'hdruk/Cataract'], \n",
    "                   #['divert', 'hdruk/Diverticular_disease_of_intestine'], \n",
    "                   ['glaucoma', 'hdruk/Glaucoma']]\n",
    "recall_matrix    = pd.DataFrame(index=[i[0] for i in comparison_sets], columns = range(0,8))\n",
    "precision_matrix = pd.DataFrame(index=[i[0] for i in comparison_sets], columns = range(0,8))\n"
   ]
  },
  {
   "cell_type": "code",
   "execution_count": 4,
   "metadata": {},
   "outputs": [
    {
     "data": {
      "text/plain": [
       "'/Users/oweyer/Documents/ontologyFilter/src'"
      ]
     },
     "execution_count": 4,
     "metadata": {},
     "output_type": "execute_result"
    }
   ],
   "source": [
    "os.getcwd()"
   ]
  },
  {
   "cell_type": "code",
   "execution_count": 5,
   "metadata": {},
   "outputs": [
    {
     "name": "stdout",
     "output_type": "stream",
     "text": [
      "--- Comparing appendix codelist against hdruk/Appendicitis standard\n",
      "['codelists/output/query_appendix_0_opcs.csv', 'codelists/output/query_appendix_1_opcs.csv', 'codelists/output/query_appendix_2_opcs.csv', 'codelists/output/query_appendix_3_opcs.csv', 'codelists/output/query_appendix_4_opcs.csv', 'codelists/output/query_appendix_5_opcs.csv', 'codelists/output/query_appendix_6_opcs.csv', 'codelists/output/query_appendix_7_opcs.csv']\n",
      "codelists/output/query_appendix_0_opcs.csv\n",
      "   Precision:  4.1    11  out of  268 codes retrieved were relevant\n",
      "   Recall:     78.57    11  out of  14  CORECT codes found\n",
      "codelists/output/query_appendix_1_opcs.csv\n",
      "   Precision:  22.0    11  out of  50 codes retrieved were relevant\n",
      "   Recall:     78.57    11  out of  14  CORECT codes found\n",
      "codelists/output/query_appendix_2_opcs.csv\n",
      "   Precision:  5.12    11  out of  215 codes retrieved were relevant\n",
      "   Recall:     78.57    11  out of  14  CORECT codes found\n",
      "codelists/output/query_appendix_3_opcs.csv\n",
      "   Precision:  22.92    11  out of  48 codes retrieved were relevant\n",
      "   Recall:     78.57    11  out of  14  CORECT codes found\n",
      "codelists/output/query_appendix_4_opcs.csv\n",
      "   Precision:  22.0    11  out of  50 codes retrieved were relevant\n",
      "   Recall:     78.57    11  out of  14  CORECT codes found\n",
      "codelists/output/query_appendix_5_opcs.csv\n",
      "   Precision:  22.0    11  out of  50 codes retrieved were relevant\n",
      "   Recall:     78.57    11  out of  14  CORECT codes found\n",
      "codelists/output/query_appendix_6_opcs.csv\n",
      "   Precision:  22.92    11  out of  48 codes retrieved were relevant\n",
      "   Recall:     78.57    11  out of  14  CORECT codes found\n",
      "codelists/output/query_appendix_7_opcs.csv\n",
      "   Precision:  22.92    11  out of  48 codes retrieved were relevant\n",
      "   Recall:     78.57    11  out of  14  CORECT codes found\n",
      "--- Comparing cataract codelist against hdruk/Cataract standard\n",
      "['codelists/output/query_cataract_0_opcs.csv', 'codelists/output/query_cataract_1_opcs.csv', 'codelists/output/query_cataract_2_opcs.csv', 'codelists/output/query_cataract_3_opcs.csv', 'codelists/output/query_cataract_4_opcs.csv', 'codelists/output/query_cataract_5_opcs.csv', 'codelists/output/query_cataract_6_opcs.csv', 'codelists/output/query_cataract_7_opcs.csv']\n",
      "codelists/output/query_cataract_0_opcs.csv\n",
      "   Precision:  0.42    27  out of  6376 codes retrieved were relevant\n",
      "   Recall:     84.38    27  out of  32  CORECT codes found\n",
      "codelists/output/query_cataract_1_opcs.csv\n",
      "   Precision:  62.79    27  out of  43 codes retrieved were relevant\n",
      "   Recall:     84.38    27  out of  32  CORECT codes found\n",
      "codelists/output/query_cataract_2_opcs.csv\n",
      "   Precision:  0.46    27  out of  5908 codes retrieved were relevant\n",
      "   Recall:     84.38    27  out of  32  CORECT codes found\n",
      "codelists/output/query_cataract_3_opcs.csv\n",
      "   Precision:  64.29    27  out of  42 codes retrieved were relevant\n",
      "   Recall:     84.38    27  out of  32  CORECT codes found\n",
      "codelists/output/query_cataract_4_opcs.csv\n",
      "   Precision:  62.79    27  out of  43 codes retrieved were relevant\n",
      "   Recall:     84.38    27  out of  32  CORECT codes found\n",
      "codelists/output/query_cataract_5_opcs.csv\n",
      "   Precision:  71.05    27  out of  38 codes retrieved were relevant\n",
      "   Recall:     84.38    27  out of  32  CORECT codes found\n",
      "codelists/output/query_cataract_6_opcs.csv\n",
      "   Precision:  64.29    27  out of  42 codes retrieved were relevant\n",
      "   Recall:     84.38    27  out of  32  CORECT codes found\n",
      "codelists/output/query_cataract_7_opcs.csv\n",
      "   Precision:  72.22    26  out of  36 codes retrieved were relevant\n",
      "   Recall:     81.25    26  out of  32  CORECT codes found\n",
      "--- Comparing glaucoma codelist against hdruk/Glaucoma standard\n",
      "['codelists/output/query_glaucoma_0_opcs.csv', 'codelists/output/query_glaucoma_1_opcs.csv', 'codelists/output/query_glaucoma_2_opcs.csv', 'codelists/output/query_glaucoma_3_opcs.csv', 'codelists/output/query_glaucoma_4_opcs.csv', 'codelists/output/query_glaucoma_5_opcs.csv', 'codelists/output/query_glaucoma_6_opcs.csv', 'codelists/output/query_glaucoma_7_opcs.csv']\n",
      "codelists/output/query_glaucoma_0_opcs.csv\n",
      "   Precision:  0.37    19  out of  5127 codes retrieved were relevant\n",
      "   Recall:     90.48    19  out of  21  CORECT codes found\n",
      "codelists/output/query_glaucoma_1_opcs.csv\n",
      "   Precision:  4.55    19  out of  418 codes retrieved were relevant\n",
      "   Recall:     90.48    19  out of  21  CORECT codes found\n",
      "codelists/output/query_glaucoma_2_opcs.csv\n",
      "   Precision:  0.42    19  out of  4566 codes retrieved were relevant\n",
      "   Recall:     90.48    19  out of  21  CORECT codes found\n",
      "codelists/output/query_glaucoma_3_opcs.csv\n",
      "   Precision:  4.77    19  out of  398 codes retrieved were relevant\n",
      "   Recall:     90.48    19  out of  21  CORECT codes found\n",
      "codelists/output/query_glaucoma_4_opcs.csv\n",
      "   Precision:  4.55    19  out of  418 codes retrieved were relevant\n",
      "   Recall:     90.48    19  out of  21  CORECT codes found\n",
      "codelists/output/query_glaucoma_5_opcs.csv\n",
      "   Precision:  0.0    0  out of  86 codes retrieved were relevant\n",
      "   Recall:     0.0    0  out of  21  CORECT codes found\n",
      "codelists/output/query_glaucoma_6_opcs.csv\n",
      "   Precision:  4.77    19  out of  398 codes retrieved were relevant\n",
      "   Recall:     90.48    19  out of  21  CORECT codes found\n",
      "codelists/output/query_glaucoma_7_opcs.csv\n",
      "   Precision:  0.0    0  out of  86 codes retrieved were relevant\n",
      "   Recall:     0.0    0  out of  21  CORECT codes found\n"
     ]
    }
   ],
   "source": [
    "\n",
    "\n",
    "# Get source codelists\n",
    "\n",
    "for s in comparison_sets:\n",
    "    print('--- Comparing '+s[0]+' codelist against '+s[1]+' standard')\n",
    "    files = sorted( list( glob.glob(\"codelists/output/query_\"+s[0]+\"*_opcs.csv\") ) )\n",
    "    print(files)\n",
    "\n",
    "    try:\n",
    "        benchmark_list = pd.read_csv('codelists/'+s[1]+\".csv\")\n",
    "\n",
    "        i=0\n",
    "        for f in files: \n",
    "            print(f)\n",
    "            codelist = pd.read_csv(f)\n",
    "            p, r = get_precision_recall(codelist, benchmark_list)\n",
    "\n",
    "            precision_matrix.loc[s[0]][i] = round(p,2)\n",
    "            recall_matrix.loc[s[0]][i] = round(r,2)\n",
    "\n",
    "            i = i + 1\n",
    "\n",
    "    except FileNotFoundError as e:\n",
    "        print(e)\n",
    "# Create matrix"
   ]
  },
  {
   "cell_type": "code",
   "execution_count": 6,
   "metadata": {},
   "outputs": [
    {
     "data": {
      "text/html": [
       "<div>\n",
       "<style scoped>\n",
       "    .dataframe tbody tr th:only-of-type {\n",
       "        vertical-align: middle;\n",
       "    }\n",
       "\n",
       "    .dataframe tbody tr th {\n",
       "        vertical-align: top;\n",
       "    }\n",
       "\n",
       "    .dataframe thead th {\n",
       "        text-align: right;\n",
       "    }\n",
       "</style>\n",
       "<table border=\"1\" class=\"dataframe\">\n",
       "  <thead>\n",
       "    <tr style=\"text-align: right;\">\n",
       "      <th></th>\n",
       "      <th>0</th>\n",
       "      <th>1</th>\n",
       "      <th>2</th>\n",
       "      <th>3</th>\n",
       "      <th>4</th>\n",
       "      <th>5</th>\n",
       "      <th>6</th>\n",
       "      <th>7</th>\n",
       "    </tr>\n",
       "  </thead>\n",
       "  <tbody>\n",
       "    <tr>\n",
       "      <th>appendix</th>\n",
       "      <td>4.1</td>\n",
       "      <td>22.0</td>\n",
       "      <td>5.12</td>\n",
       "      <td>22.92</td>\n",
       "      <td>22.0</td>\n",
       "      <td>22.0</td>\n",
       "      <td>22.92</td>\n",
       "      <td>22.92</td>\n",
       "    </tr>\n",
       "    <tr>\n",
       "      <th>cataract</th>\n",
       "      <td>0.42</td>\n",
       "      <td>62.79</td>\n",
       "      <td>0.46</td>\n",
       "      <td>64.29</td>\n",
       "      <td>62.79</td>\n",
       "      <td>71.05</td>\n",
       "      <td>64.29</td>\n",
       "      <td>72.22</td>\n",
       "    </tr>\n",
       "    <tr>\n",
       "      <th>glaucoma</th>\n",
       "      <td>0.37</td>\n",
       "      <td>4.55</td>\n",
       "      <td>0.42</td>\n",
       "      <td>4.77</td>\n",
       "      <td>4.55</td>\n",
       "      <td>0.0</td>\n",
       "      <td>4.77</td>\n",
       "      <td>0.0</td>\n",
       "    </tr>\n",
       "  </tbody>\n",
       "</table>\n",
       "</div>"
      ],
      "text/plain": [
       "             0      1     2      3      4      5      6      7\n",
       "appendix   4.1   22.0  5.12  22.92   22.0   22.0  22.92  22.92\n",
       "cataract  0.42  62.79  0.46  64.29  62.79  71.05  64.29  72.22\n",
       "glaucoma  0.37   4.55  0.42   4.77   4.55    0.0   4.77    0.0"
      ]
     },
     "metadata": {},
     "output_type": "display_data"
    },
    {
     "data": {
      "text/html": [
       "<div>\n",
       "<style scoped>\n",
       "    .dataframe tbody tr th:only-of-type {\n",
       "        vertical-align: middle;\n",
       "    }\n",
       "\n",
       "    .dataframe tbody tr th {\n",
       "        vertical-align: top;\n",
       "    }\n",
       "\n",
       "    .dataframe thead th {\n",
       "        text-align: right;\n",
       "    }\n",
       "</style>\n",
       "<table border=\"1\" class=\"dataframe\">\n",
       "  <thead>\n",
       "    <tr style=\"text-align: right;\">\n",
       "      <th></th>\n",
       "      <th>0</th>\n",
       "      <th>1</th>\n",
       "      <th>2</th>\n",
       "      <th>3</th>\n",
       "      <th>4</th>\n",
       "      <th>5</th>\n",
       "      <th>6</th>\n",
       "      <th>7</th>\n",
       "    </tr>\n",
       "  </thead>\n",
       "  <tbody>\n",
       "    <tr>\n",
       "      <th>appendix</th>\n",
       "      <td>78.57</td>\n",
       "      <td>78.57</td>\n",
       "      <td>78.57</td>\n",
       "      <td>78.57</td>\n",
       "      <td>78.57</td>\n",
       "      <td>78.57</td>\n",
       "      <td>78.57</td>\n",
       "      <td>78.57</td>\n",
       "    </tr>\n",
       "    <tr>\n",
       "      <th>cataract</th>\n",
       "      <td>84.38</td>\n",
       "      <td>84.38</td>\n",
       "      <td>84.38</td>\n",
       "      <td>84.38</td>\n",
       "      <td>84.38</td>\n",
       "      <td>84.38</td>\n",
       "      <td>84.38</td>\n",
       "      <td>81.25</td>\n",
       "    </tr>\n",
       "    <tr>\n",
       "      <th>glaucoma</th>\n",
       "      <td>90.48</td>\n",
       "      <td>90.48</td>\n",
       "      <td>90.48</td>\n",
       "      <td>90.48</td>\n",
       "      <td>90.48</td>\n",
       "      <td>0.0</td>\n",
       "      <td>90.48</td>\n",
       "      <td>0.0</td>\n",
       "    </tr>\n",
       "  </tbody>\n",
       "</table>\n",
       "</div>"
      ],
      "text/plain": [
       "              0      1      2      3      4      5      6      7\n",
       "appendix  78.57  78.57  78.57  78.57  78.57  78.57  78.57  78.57\n",
       "cataract  84.38  84.38  84.38  84.38  84.38  84.38  84.38  81.25\n",
       "glaucoma  90.48  90.48  90.48  90.48  90.48    0.0  90.48    0.0"
      ]
     },
     "metadata": {},
     "output_type": "display_data"
    }
   ],
   "source": [
    "display(precision_matrix)\n",
    "display(recall_matrix)"
   ]
  },
  {
   "cell_type": "code",
   "execution_count": 7,
   "metadata": {},
   "outputs": [
    {
     "data": {
      "text/plain": [
       "<Axes: >"
      ]
     },
     "metadata": {},
     "output_type": "display_data"
    },
    {
     "data": {
      "image/png": "[encoded data removed]",
      "text/plain": [
       "<Figure size 640x480 with 2 Axes>"
      ]
     },
     "metadata": {},
     "output_type": "display_data"
    }
   ],
   "source": [
    "display( sns.heatmap(data=precision_matrix.astype(float), vmin=0, vmax=100, cmap='mako_r', square=True, annot=True, fmt=\".1f\") )"
   ]
  },
  {
   "cell_type": "code",
   "execution_count": 8,
   "metadata": {},
   "outputs": [
    {
     "data": {
      "text/plain": [
       "<Axes: >"
      ]
     },
     "metadata": {},
     "output_type": "display_data"
    },
    {
     "data": {
      "image/png": "[encoded data removed]",
      "text/plain": [
       "<Figure size 640x480 with 2 Axes>"
      ]
     },
     "metadata": {},
     "output_type": "display_data"
    }
   ],
   "source": [
    "display( sns.heatmap(data=recall_matrix.astype(float), vmin=0, vmax=100, cmap='mako_r', square=True, annot=True, fmt=\".1f\") )"
   ]
  }
 ],
 "metadata": {
  "kernelspec": {
   "display_name": "base",
   "language": "python",
   "name": "python3"
  },
  "language_info": {
   "codemirror_mode": {
    "name": "ipython",
    "version": 3
   },
   "file_extension": ".py",
   "mimetype": "text/x-python",
   "name": "python",
   "nbconvert_exporter": "python",
   "pygments_lexer": "ipython3",
   "version": "3.11.5"
  }
 },
 "nbformat": 4,
 "nbformat_minor": 2
}
