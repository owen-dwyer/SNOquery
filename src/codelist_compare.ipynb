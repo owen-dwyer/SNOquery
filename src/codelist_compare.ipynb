{
 "cells": [
  {
   "cell_type": "code",
   "execution_count": 28,
   "metadata": {},
   "outputs": [],
   "source": [
    "import glob, os\n",
    "import pandas as pd"
   ]
  },
  {
   "cell_type": "code",
   "execution_count": 70,
   "metadata": {},
   "outputs": [
    {
     "name": "stdout",
     "output_type": "stream",
     "text": [
      "--- Comparing appendix codelist against hdruk/Appendicitis standard\n",
      "codelists/output/query_appendix_0_opcs.csv\n",
      "   Precision:  4.1    11  out of  268 codes retrieved were relevant\n",
      "   Recall:     78.57    11  out of  14  CORECT codes found\n",
      "codelists/output/query_appendix_1_opcs.csv\n",
      "   Precision:  5.12    11  out of  215 codes retrieved were relevant\n",
      "   Recall:     78.57    11  out of  14  CORECT codes found\n",
      "codelists/output/query_appendix_2_opcs.csv\n",
      "   Precision:  22.0    11  out of  50 codes retrieved were relevant\n",
      "   Recall:     78.57    11  out of  14  CORECT codes found\n",
      "codelists/output/query_appendix_3_opcs.csv\n",
      "   Precision:  22.92    11  out of  48 codes retrieved were relevant\n",
      "   Recall:     78.57    11  out of  14  CORECT codes found\n"
     ]
    }
   ],
   "source": [
    "# Get codelists to compare against\n",
    "comparison_sets = [['appendix','hdruk/Appendicitis']]\n",
    "# Get source codelists\n",
    "\n",
    "for s in comparison_sets:\n",
    "    print('--- Comparing '+s[0]+' codelist against '+s[1]+' standard')\n",
    "    files = sorted( list( glob.glob(\"codelists/output/query_\"+s[0]+\"*_opcs.csv\") ) )\n",
    "\n",
    "    try:\n",
    "        benchmark_list = pd.read_csv('codelists/'+s[1]+\".csv\")\n",
    "\n",
    "\n",
    "        for f in files: \n",
    "            print(f)\n",
    "            codelist = pd.read_csv(f)\n",
    "            get_precision_recall(codelist, benchmark_list)\n",
    "\n",
    "    except FileNotFoundError as e:\n",
    "        print(e)\n",
    "# Create matrix"
   ]
  },
  {
   "cell_type": "code",
   "execution_count": 32,
   "metadata": {},
   "outputs": [],
   "source": [
    "A_test = pd.read_csv('codelists/output/query_appendix_3_opcs.csv')\n",
    "B_test = pd.read_csv('codelists/hdruk/Appendicitis.csv')"
   ]
  },
  {
   "cell_type": "code",
   "execution_count": 55,
   "metadata": {},
   "outputs": [
    {
     "name": "stdout",
     "output_type": "stream",
     "text": [
      "   Precision:  22.92    11  out of  48 codes retrieved were relevant\n",
      "   Recall:     78.57    11  out of  14  CORECT codes found\n"
     ]
    }
   ],
   "source": [
    "get_precision_recall(A_test, B_test)"
   ]
  },
  {
   "cell_type": "code",
   "execution_count": 54,
   "metadata": {},
   "outputs": [],
   "source": [
    "def get_precision_recall(A, B):\n",
    "\n",
    "    retrieved_list = A['opcs'].drop_duplicates()\n",
    "    target_list = B['code'].str.replace('.','').drop_duplicates()\n",
    "    \n",
    "    total_codes_retrieved = len(retrieved_list)\n",
    "    target_codes_retrieved = sum(retrieved_list.isin(target_list))\n",
    "    total_target_codes = len(target_list)\n",
    "    \n",
    "\n",
    "    # precision = relevant retrieved instances / all retrieved instances\n",
    "    # 'how many of the retrieved codes were in CORECT-R'\n",
    "    precision = ( target_codes_retrieved / total_codes_retrieved ) * 100\n",
    "    print('   Precision: ',round(precision,2), '  ',target_codes_retrieved,' out of ',total_codes_retrieved,'codes retrieved were relevant')\n",
    "\n",
    "    # recall = relevant retrieved instances / all relevant instances\n",
    "    # 'how many of the CORECT-R codes were retrieved?'\n",
    "    recall = ( target_codes_retrieved / total_target_codes ) * 100\n",
    "    print('   Recall:    ',round(recall,2), '  ',target_codes_retrieved,' out of ',total_target_codes,' CORECT codes found')\n",
    "\n",
    "\n",
    "\n"
   ]
  }
 ],
 "metadata": {
  "kernelspec": {
   "display_name": "base",
   "language": "python",
   "name": "python3"
  },
  "language_info": {
   "codemirror_mode": {
    "name": "ipython",
    "version": 3
   },
   "file_extension": ".py",
   "mimetype": "text/x-python",
   "name": "python",
   "nbconvert_exporter": "python",
   "pygments_lexer": "ipython3",
   "version": "3.11.5"
  }
 },
 "nbformat": 4,
 "nbformat_minor": 2
}
