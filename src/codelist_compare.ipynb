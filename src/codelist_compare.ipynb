{
 "cells": [
  {
   "cell_type": "code",
   "execution_count": 1,
   "metadata": {},
   "outputs": [],
   "source": [
    "import glob, os\n",
    "import pandas as pd\n",
    "import seaborn as sns\n",
    "import numpy as np"
   ]
  },
  {
   "cell_type": "code",
   "execution_count": 2,
   "metadata": {},
   "outputs": [],
   "source": [
    "def get_precision_recall(A, B):\n",
    "    retrieved_list = A['opcs'].drop_duplicates()\n",
    "    target_list = B['opcs'].str.replace('.','').drop_duplicates()\n",
    "    \n",
    "    total_codes_retrieved = len(retrieved_list)\n",
    "    target_codes_retrieved = sum(retrieved_list.isin(target_list))\n",
    "    total_target_codes = len(target_list)\n",
    "    \n",
    "\n",
    "    # precision = relevant retrieved instances / all retrieved instances\n",
    "    # 'how many of the retrieved codes were in CORECT-R'\n",
    "    precision = ( target_codes_retrieved / total_codes_retrieved ) * 100\n",
    "    print('   Precision: ',round(precision,2), '  ',target_codes_retrieved,' out of ',total_codes_retrieved,'codes retrieved were relevant')\n",
    "\n",
    "    # recall = relevant retrieved instances / all relevant instances\n",
    "    # 'how many of the CORECT-R codes were retrieved?'\n",
    "    recall = ( target_codes_retrieved / total_target_codes ) * 100\n",
    "    print('   Recall:    ',round(recall,2), '  ',target_codes_retrieved,' out of ',total_target_codes,' CORECT codes found')\n",
    "\n",
    "    return precision, recall"
   ]
  },
  {
   "cell_type": "code",
   "execution_count": null,
   "metadata": {},
   "outputs": [],
   "source": []
  },
  {
   "cell_type": "code",
   "execution_count": 3,
   "metadata": {},
   "outputs": [],
   "source": [
    "# Get codelists to compare against\n",
    "comparison_sets = [['appendix', 'hdruk/Appendicitis'], \n",
    "                   ['cataract', 'hdruk/Cataract'], \n",
    "                   ['glaucoma', 'hdruk/Glaucoma'],\n",
    "                   ['colorectal','CORECT_dictionary'],\n",
    "                   ['lung','lung_dictionary']\n",
    "                   ]\n",
    "\n",
    "recall_matrix    = pd.DataFrame(index=[i[0] for i in comparison_sets], columns = range(0,4))\n",
    "precision_matrix = pd.DataFrame(index=[i[0] for i in comparison_sets], columns = range(0,4))\n"
   ]
  },
  {
   "cell_type": "code",
   "execution_count": 4,
   "metadata": {},
   "outputs": [
    {
     "data": {
      "text/plain": [
       "'/Users/oweyer/Documents/ontologyFilter/src'"
      ]
     },
     "execution_count": 4,
     "metadata": {},
     "output_type": "execute_result"
    }
   ],
   "source": [
    "os.getcwd()"
   ]
  },
  {
   "cell_type": "code",
   "execution_count": null,
   "metadata": {},
   "outputs": [],
   "source": []
  },
  {
   "cell_type": "code",
   "execution_count": null,
   "metadata": {},
   "outputs": [],
   "source": []
  },
  {
   "cell_type": "code",
   "execution_count": 5,
   "metadata": {},
   "outputs": [
    {
     "name": "stdout",
     "output_type": "stream",
     "text": [
      "--- Comparing appendix codelist against hdruk/Appendicitis standard\n",
      "['codelists/output/query_appendix_0_opcs.csv', 'codelists/output/query_appendix_1_opcs.csv', 'codelists/output/query_appendix_2_opcs.csv', 'codelists/output/query_appendix_3_opcs.csv']\n",
      "codelists/output/query_appendix_0_opcs.csv\n",
      "   Precision:  3.33    11  out of  330 codes retrieved were relevant\n",
      "   Recall:     78.57    11  out of  14  CORECT codes found\n",
      "codelists/output/query_appendix_1_opcs.csv\n",
      "   Precision:  5.19    11  out of  212 codes retrieved were relevant\n",
      "   Recall:     78.57    11  out of  14  CORECT codes found\n",
      "codelists/output/query_appendix_2_opcs.csv\n",
      "   Precision:  20.37    11  out of  54 codes retrieved were relevant\n",
      "   Recall:     78.57    11  out of  14  CORECT codes found\n",
      "codelists/output/query_appendix_3_opcs.csv\n",
      "   Precision:  25.0    11  out of  44 codes retrieved were relevant\n",
      "   Recall:     78.57    11  out of  14  CORECT codes found\n",
      "--- Comparing cataract codelist against hdruk/Cataract standard\n",
      "['codelists/output/query_cataract_0_opcs.csv', 'codelists/output/query_cataract_1_opcs.csv', 'codelists/output/query_cataract_2_opcs.csv', 'codelists/output/query_cataract_3_opcs.csv']\n",
      "codelists/output/query_cataract_0_opcs.csv\n",
      "   Precision:  0.46    32  out of  6941 codes retrieved were relevant\n",
      "   Recall:     100.0    32  out of  32  CORECT codes found\n",
      "codelists/output/query_cataract_1_opcs.csv\n",
      "   Precision:  0.45    27  out of  5966 codes retrieved were relevant\n",
      "   Recall:     84.38    27  out of  32  CORECT codes found\n",
      "codelists/output/query_cataract_2_opcs.csv\n",
      "   Precision:  53.33    32  out of  60 codes retrieved were relevant\n",
      "   Recall:     100.0    32  out of  32  CORECT codes found\n",
      "codelists/output/query_cataract_3_opcs.csv\n",
      "   Precision:  60.0    27  out of  45 codes retrieved were relevant\n",
      "   Recall:     84.38    27  out of  32  CORECT codes found\n",
      "--- Comparing glaucoma codelist against hdruk/Glaucoma standard\n",
      "['codelists/output/query_glaucoma_0_opcs.csv', 'codelists/output/query_glaucoma_1_opcs.csv', 'codelists/output/query_glaucoma_2_opcs.csv', 'codelists/output/query_glaucoma_3_opcs.csv']\n",
      "codelists/output/query_glaucoma_0_opcs.csv\n",
      "   Precision:  0.37    21  out of  5601 codes retrieved were relevant\n",
      "   Recall:     100.0    21  out of  21  CORECT codes found\n",
      "codelists/output/query_glaucoma_1_opcs.csv\n"
     ]
    },
    {
     "name": "stdout",
     "output_type": "stream",
     "text": [
      "   Precision:  0.41    19  out of  4593 codes retrieved were relevant\n",
      "   Recall:     90.48    19  out of  21  CORECT codes found\n",
      "codelists/output/query_glaucoma_2_opcs.csv\n",
      "   Precision:  4.27    21  out of  492 codes retrieved were relevant\n",
      "   Recall:     100.0    21  out of  21  CORECT codes found\n",
      "codelists/output/query_glaucoma_3_opcs.csv\n",
      "   Precision:  4.79    19  out of  397 codes retrieved were relevant\n",
      "   Recall:     90.48    19  out of  21  CORECT codes found\n",
      "--- Comparing colorectal codelist against CORECT_dictionary standard\n",
      "['codelists/output/query_colorectal_0_opcs.csv', 'codelists/output/query_colorectal_1_opcs.csv', 'codelists/output/query_colorectal_2_opcs.csv', 'codelists/output/query_colorectal_3_opcs.csv']\n",
      "codelists/output/query_colorectal_0_opcs.csv\n",
      "   Precision:  21.86    169  out of  773 codes retrieved were relevant\n",
      "   Recall:     86.22    169  out of  196  CORECT codes found\n",
      "codelists/output/query_colorectal_1_opcs.csv\n",
      "   Precision:  27.56    156  out of  566 codes retrieved were relevant\n",
      "   Recall:     79.59    156  out of  196  CORECT codes found\n",
      "codelists/output/query_colorectal_2_opcs.csv\n",
      "   Precision:  23.15    160  out of  691 codes retrieved were relevant\n",
      "   Recall:     81.63    160  out of  196  CORECT codes found\n",
      "codelists/output/query_colorectal_3_opcs.csv\n",
      "   Precision:  30.54    146  out of  478 codes retrieved were relevant\n",
      "   Recall:     74.49    146  out of  196  CORECT codes found\n",
      "--- Comparing lung codelist against lung_dictionary standard\n",
      "['codelists/output/query_lung_0_opcs.csv', 'codelists/output/query_lung_1_opcs.csv', 'codelists/output/query_lung_2_opcs.csv', 'codelists/output/query_lung_3_opcs.csv']\n",
      "codelists/output/query_lung_0_opcs.csv\n",
      "   Precision:  3.59    14  out of  390 codes retrieved were relevant\n",
      "   Recall:     73.68    14  out of  19  CORECT codes found\n",
      "codelists/output/query_lung_1_opcs.csv\n",
      "   Precision:  6.31    14  out of  222 codes retrieved were relevant\n",
      "   Recall:     73.68    14  out of  19  CORECT codes found\n",
      "codelists/output/query_lung_2_opcs.csv\n",
      "   Precision:  5.8    12  out of  207 codes retrieved were relevant\n",
      "   Recall:     63.16    12  out of  19  CORECT codes found\n",
      "codelists/output/query_lung_3_opcs.csv\n",
      "   Precision:  8.46    11  out of  130 codes retrieved were relevant\n",
      "   Recall:     57.89    11  out of  19  CORECT codes found\n"
     ]
    }
   ],
   "source": [
    "\n",
    "\n",
    "# Get source codelists\n",
    "\n",
    "for s in comparison_sets:\n",
    "    print('--- Comparing '+s[0]+' codelist against '+s[1]+' standard')\n",
    "    files = sorted( list( glob.glob(\"codelists/output/query_\"+s[0]+\"*_opcs.csv\") ) )\n",
    "    print(files)\n",
    "\n",
    "    try:\n",
    "        benchmark_list = pd.read_csv('codelists/'+s[1]+\".csv\")\n",
    "\n",
    "        if (s[1] == 'CORECT_dictionary'):\n",
    "            benchmark_list = benchmark_list[ ~pd.isna(benchmark_list['CorectRMapping']) ]\n",
    "            benchmark_list = benchmark_list[~benchmark_list['opcs'].str.startswith(('Z','Y')) ]\n",
    "\n",
    "        i=0\n",
    "        for f in files: \n",
    "            print(f)\n",
    "            codelist = pd.read_csv(f)\n",
    "            p, r = get_precision_recall(codelist, benchmark_list)\n",
    "\n",
    "            precision_matrix.loc[s[0]][i] = round(p,2)\n",
    "            recall_matrix.loc[s[0]][i] = round(r,2)\n",
    "\n",
    "            i = i + 1\n",
    "\n",
    "    except FileNotFoundError as e:\n",
    "        print(e)\n",
    "# Create matrix"
   ]
  },
  {
   "cell_type": "code",
   "execution_count": 6,
   "metadata": {},
   "outputs": [
    {
     "data": {
      "text/html": [
       "<div>\n",
       "<style scoped>\n",
       "    .dataframe tbody tr th:only-of-type {\n",
       "        vertical-align: middle;\n",
       "    }\n",
       "\n",
       "    .dataframe tbody tr th {\n",
       "        vertical-align: top;\n",
       "    }\n",
       "\n",
       "    .dataframe thead th {\n",
       "        text-align: right;\n",
       "    }\n",
       "</style>\n",
       "<table border=\"1\" class=\"dataframe\">\n",
       "  <thead>\n",
       "    <tr style=\"text-align: right;\">\n",
       "      <th></th>\n",
       "      <th>0</th>\n",
       "      <th>1</th>\n",
       "      <th>2</th>\n",
       "      <th>3</th>\n",
       "    </tr>\n",
       "  </thead>\n",
       "  <tbody>\n",
       "    <tr>\n",
       "      <th>appendix</th>\n",
       "      <td>3.33</td>\n",
       "      <td>5.19</td>\n",
       "      <td>20.37</td>\n",
       "      <td>25.0</td>\n",
       "    </tr>\n",
       "    <tr>\n",
       "      <th>cataract</th>\n",
       "      <td>0.46</td>\n",
       "      <td>0.45</td>\n",
       "      <td>53.33</td>\n",
       "      <td>60.0</td>\n",
       "    </tr>\n",
       "    <tr>\n",
       "      <th>glaucoma</th>\n",
       "      <td>0.37</td>\n",
       "      <td>0.41</td>\n",
       "      <td>4.27</td>\n",
       "      <td>4.79</td>\n",
       "    </tr>\n",
       "    <tr>\n",
       "      <th>colorectal</th>\n",
       "      <td>21.86</td>\n",
       "      <td>27.56</td>\n",
       "      <td>23.15</td>\n",
       "      <td>30.54</td>\n",
       "    </tr>\n",
       "    <tr>\n",
       "      <th>lung</th>\n",
       "      <td>3.59</td>\n",
       "      <td>6.31</td>\n",
       "      <td>5.8</td>\n",
       "      <td>8.46</td>\n",
       "    </tr>\n",
       "  </tbody>\n",
       "</table>\n",
       "</div>"
      ],
      "text/plain": [
       "                0      1      2      3\n",
       "appendix     3.33   5.19  20.37   25.0\n",
       "cataract     0.46   0.45  53.33   60.0\n",
       "glaucoma     0.37   0.41   4.27   4.79\n",
       "colorectal  21.86  27.56  23.15  30.54\n",
       "lung         3.59   6.31    5.8   8.46"
      ]
     },
     "metadata": {},
     "output_type": "display_data"
    },
    {
     "data": {
      "text/html": [
       "<div>\n",
       "<style scoped>\n",
       "    .dataframe tbody tr th:only-of-type {\n",
       "        vertical-align: middle;\n",
       "    }\n",
       "\n",
       "    .dataframe tbody tr th {\n",
       "        vertical-align: top;\n",
       "    }\n",
       "\n",
       "    .dataframe thead th {\n",
       "        text-align: right;\n",
       "    }\n",
       "</style>\n",
       "<table border=\"1\" class=\"dataframe\">\n",
       "  <thead>\n",
       "    <tr style=\"text-align: right;\">\n",
       "      <th></th>\n",
       "      <th>0</th>\n",
       "      <th>1</th>\n",
       "      <th>2</th>\n",
       "      <th>3</th>\n",
       "    </tr>\n",
       "  </thead>\n",
       "  <tbody>\n",
       "    <tr>\n",
       "      <th>appendix</th>\n",
       "      <td>78.57</td>\n",
       "      <td>78.57</td>\n",
       "      <td>78.57</td>\n",
       "      <td>78.57</td>\n",
       "    </tr>\n",
       "    <tr>\n",
       "      <th>cataract</th>\n",
       "      <td>100.0</td>\n",
       "      <td>84.38</td>\n",
       "      <td>100.0</td>\n",
       "      <td>84.38</td>\n",
       "    </tr>\n",
       "    <tr>\n",
       "      <th>glaucoma</th>\n",
       "      <td>100.0</td>\n",
       "      <td>90.48</td>\n",
       "      <td>100.0</td>\n",
       "      <td>90.48</td>\n",
       "    </tr>\n",
       "    <tr>\n",
       "      <th>colorectal</th>\n",
       "      <td>86.22</td>\n",
       "      <td>79.59</td>\n",
       "      <td>81.63</td>\n",
       "      <td>74.49</td>\n",
       "    </tr>\n",
       "    <tr>\n",
       "      <th>lung</th>\n",
       "      <td>73.68</td>\n",
       "      <td>73.68</td>\n",
       "      <td>63.16</td>\n",
       "      <td>57.89</td>\n",
       "    </tr>\n",
       "  </tbody>\n",
       "</table>\n",
       "</div>"
      ],
      "text/plain": [
       "                0      1      2      3\n",
       "appendix    78.57  78.57  78.57  78.57\n",
       "cataract    100.0  84.38  100.0  84.38\n",
       "glaucoma    100.0  90.48  100.0  90.48\n",
       "colorectal  86.22  79.59  81.63  74.49\n",
       "lung        73.68  73.68  63.16  57.89"
      ]
     },
     "metadata": {},
     "output_type": "display_data"
    }
   ],
   "source": [
    "display(precision_matrix)\n",
    "display(recall_matrix)"
   ]
  },
  {
   "cell_type": "code",
   "execution_count": 7,
   "metadata": {},
   "outputs": [
    {
     "data": {
      "text/plain": [
       "<Axes: >"
      ]
     },
     "metadata": {},
     "output_type": "display_data"
    },
    {
     "data": {
      "image/png": "[encoded data removed]",
      "text/plain": [
       "<Figure size 640x480 with 2 Axes>"
      ]
     },
     "metadata": {},
     "output_type": "display_data"
    }
   ],
   "source": [
    "display( sns.heatmap(data=precision_matrix.astype(float), vmin=0, vmax=100, cmap='mako_r', square=True, annot=True, fmt=\".1f\") )"
   ]
  },
  {
   "cell_type": "code",
   "execution_count": 8,
   "metadata": {},
   "outputs": [
    {
     "data": {
      "text/plain": [
       "<Axes: >"
      ]
     },
     "metadata": {},
     "output_type": "display_data"
    },
    {
     "data": {
      "image/png": "[encoded data removed]",
      "text/plain": [
       "<Figure size 640x480 with 2 Axes>"
      ]
     },
     "metadata": {},
     "output_type": "display_data"
    }
   ],
   "source": [
    "display( sns.heatmap(data=recall_matrix.astype(float), vmin=0, vmax=100, cmap='mako_r', square=True, annot=True, fmt=\".1f\") )"
   ]
  }
 ],
 "metadata": {
  "kernelspec": {
   "display_name": "base",
   "language": "python",
   "name": "python3"
  },
  "language_info": {
   "codemirror_mode": {
    "name": "ipython",
    "version": 3
   },
   "file_extension": ".py",
   "mimetype": "text/x-python",
   "name": "python",
   "nbconvert_exporter": "python",
   "pygments_lexer": "ipython3",
   "version": "3.11.5"
  }
 },
 "nbformat": 4,
 "nbformat_minor": 2
}
