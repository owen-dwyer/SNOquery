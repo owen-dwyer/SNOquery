{
 "cells": [
  {
   "cell_type": "code",
   "execution_count": 122,
   "metadata": {},
   "outputs": [],
   "source": [
    "#!pip install git+https://github.com/SwanseaUniversityMedical/pyconceptlibraryclient.git@v1.0.0\n",
    "from pyconceptlibraryclient import Client\n",
    "import pandas as pd\n",
    "\n",
    "OUTPUT_PATH = 'codelists/hdruk/'\n",
    "client = Client(public=True)"
   ]
  },
  {
   "cell_type": "code",
   "execution_count": 123,
   "metadata": {},
   "outputs": [
    {
     "data": {
      "text/html": [
       "<div>\n",
       "<style scoped>\n",
       "    .dataframe tbody tr th:only-of-type {\n",
       "        vertical-align: middle;\n",
       "    }\n",
       "\n",
       "    .dataframe tbody tr th {\n",
       "        vertical-align: top;\n",
       "    }\n",
       "\n",
       "    .dataframe thead th {\n",
       "        text-align: right;\n",
       "    }\n",
       "</style>\n",
       "<table border=\"1\" class=\"dataframe\">\n",
       "  <thead>\n",
       "    <tr style=\"text-align: right;\">\n",
       "      <th></th>\n",
       "      <th>code</th>\n",
       "      <th>description</th>\n",
       "    </tr>\n",
       "  </thead>\n",
       "  <tbody>\n",
       "    <tr>\n",
       "      <th>66</th>\n",
       "      <td>C81.9</td>\n",
       "      <td>Unspecified photocoagulation of retina for det...</td>\n",
       "    </tr>\n",
       "    <tr>\n",
       "      <th>67</th>\n",
       "      <td>C81.1</td>\n",
       "      <td>Xenon photocoagulation of retina for detachment</td>\n",
       "    </tr>\n",
       "    <tr>\n",
       "      <th>68</th>\n",
       "      <td>C81.8</td>\n",
       "      <td>Other specified photocoagulation of retina for...</td>\n",
       "    </tr>\n",
       "    <tr>\n",
       "      <th>69</th>\n",
       "      <td>C81</td>\n",
       "      <td>Photocoagulation of retina for detachment</td>\n",
       "    </tr>\n",
       "    <tr>\n",
       "      <th>70</th>\n",
       "      <td>C81.2</td>\n",
       "      <td>Laser photocoagulation of retina for detachment</td>\n",
       "    </tr>\n",
       "  </tbody>\n",
       "</table>\n",
       "</div>"
      ],
      "text/plain": [
       "     code                                        description\n",
       "66  C81.9  Unspecified photocoagulation of retina for det...\n",
       "67  C81.1    Xenon photocoagulation of retina for detachment\n",
       "68  C81.8  Other specified photocoagulation of retina for...\n",
       "69    C81          Photocoagulation of retina for detachment\n",
       "70  C81.2    Laser photocoagulation of retina for detachment"
      ]
     },
     "metadata": {},
     "output_type": "display_data"
    }
   ],
   "source": [
    "# Clean the raw output from the API into a codelist\n",
    "def clean_codelist(codelist, codesystem):\n",
    "    codelist_df = pd.DataFrame(codelist)\n",
    "    codelist_df['coding_system_name'] = pd.json_normalize(codelist_df.coding_system).name\n",
    "    codelist_df = codelist_df[ codelist_df['coding_system_name']=='OPCS4 codes' ] \n",
    "    codelist_df = codelist_df[['code','description']]\n",
    "    return codelist_df\n",
    "\n",
    "c = clean_codelist(phenotype_codelist, 'OPCS4 codes')\n",
    "display(c)"
   ]
  },
  {
   "cell_type": "code",
   "execution_count": 124,
   "metadata": {},
   "outputs": [
    {
     "name": "stdout",
     "output_type": "stream",
     "text": [
      "0 : Diverticular disease of intestine ( PH154 / 308 )\n",
      "1 : Appendicitis ( PH106 / 212 )\n",
      "2 : Cataract ( PH131 / 262 )\n",
      "3 : Glaucoma ( PH176 / 352 )\n",
      "4 : Retinal detachments and breaks ( PH280 / 560 )\n"
     ]
    }
   ],
   "source": [
    "codelist_ids = pd.read_csv('hdruk_codelist_ids.csv')\n",
    "\n",
    "for row,val in codelist_ids.iterrows():\n",
    "    print(row,':',val.list_name,'(',val.id,'/',val.version,')')\n",
    "\n",
    "    phenotype_codelist = client.phenotypes.get_codelist (val.id, version_id=val.version )\n",
    "    codelist_output = clean_codelist(phenotype_codelist, 'OPCS4 codes')\n",
    "\n",
    "    codelist_output.to_csv(OUTPUT_PATH+val.list_name.replace(' ','_'))\n"
   ]
  }
 ],
 "metadata": {
  "kernelspec": {
   "display_name": "base",
   "language": "python",
   "name": "python3"
  },
  "language_info": {
   "codemirror_mode": {
    "name": "ipython",
    "version": 3
   },
   "file_extension": ".py",
   "mimetype": "text/x-python",
   "name": "python",
   "nbconvert_exporter": "python",
   "pygments_lexer": "ipython3",
   "version": "3.11.5"
  }
 },
 "nbformat": 4,
 "nbformat_minor": 2
}
