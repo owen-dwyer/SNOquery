{
 "cells": [
  {
   "cell_type": "code",
   "execution_count": 1,
   "metadata": {},
   "outputs": [],
   "source": [
    "#!pip install git+https://github.com/SwanseaUniversityMedical/pyconceptlibraryclient.git@v1.0.0\n",
    "from pyconceptlibraryclient import Client\n",
    "import pandas as pd\n",
    "\n",
    "OUTPUT_PATH = 'codelists/hdruk/'\n",
    "client = Client(public=True)"
   ]
  },
  {
   "cell_type": "code",
   "execution_count": 3,
   "metadata": {},
   "outputs": [],
   "source": [
    "# Clean the raw output from the API into a codelist\n",
    "def clean_codelist(codelist, codesystem):\n",
    "    codelist_df = pd.DataFrame(codelist)\n",
    "    codelist_df['coding_system_name'] = pd.json_normalize(codelist_df.coding_system).name\n",
    "    codelist_df = codelist_df[ codelist_df['coding_system_name']=='OPCS4 codes' ] \n",
    "    codelist_df = codelist_df[['code','description']]\n",
    "    return codelist_df"
   ]
  },
  {
   "cell_type": "code",
   "execution_count": 4,
   "metadata": {},
   "outputs": [
    {
     "name": "stdout",
     "output_type": "stream",
     "text": [
      "0 : Diverticular disease of intestine ( PH154 / 308 )\n",
      "1 : Appendicitis ( PH106 / 212 )\n",
      "2 : Cataract ( PH131 / 262 )\n",
      "3 : Glaucoma ( PH176 / 352 )\n",
      "4 : Retinal detachments and breaks ( PH280 / 560 )\n"
     ]
    }
   ],
   "source": [
    "codelist_ids = pd.read_csv('hdruk_codelist_ids.csv')\n",
    "\n",
    "for row,val in codelist_ids.iterrows():\n",
    "    print(row,':',val.list_name,'(',val.id,'/',val.version,')')\n",
    "\n",
    "    phenotype_codelist = client.phenotypes.get_codelist (val.id, version_id=val.version )\n",
    "    codelist_output = clean_codelist(phenotype_codelist, 'OPCS4 codes')\n",
    "\n",
    "    codelist_output.to_csv(OUTPUT_PATH+val.list_name.replace(' ','_')+'.csv')\n"
   ]
  }
 ],
 "metadata": {
  "kernelspec": {
   "display_name": "base",
   "language": "python",
   "name": "python3"
  },
  "language_info": {
   "codemirror_mode": {
    "name": "ipython",
    "version": 3
   },
   "file_extension": ".py",
   "mimetype": "text/x-python",
   "name": "python",
   "nbconvert_exporter": "python",
   "pygments_lexer": "ipython3",
   "version": "3.11.5"
  }
 },
 "nbformat": 4,
 "nbformat_minor": 2
}
